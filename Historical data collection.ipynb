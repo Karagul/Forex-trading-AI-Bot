{
 "cells": [
  {
   "cell_type": "code",
   "execution_count": 3,
   "id": "0df03c1e-c048-47c0-9b78-eb43f75410c5",
   "metadata": {},
   "outputs": [],
   "source": [
    "import duka\n",
    "import duka.app.app as import_ticks_method\n",
    "from duka.core.utils import TimeFrame\n",
    "import datetime"
   ]
  },
  {
   "cell_type": "code",
   "execution_count": 4,
   "id": "bfb5b380-4f16-47d3-ace6-c2e9eb311df4",
   "metadata": {},
   "outputs": [],
   "source": [
    "start_date = datetime.date(2019,1,1)\n",
    "end_date = datetime.date(2019,2,1)\n",
    "Assets = [\"EURUSD\"]"
   ]
  },
  {
   "cell_type": "code",
   "execution_count": 5,
   "id": "263c6503-39da-4524-b037-af4574f2fb6f",
   "metadata": {},
   "outputs": [
    {
     "name": "stdout",
     "output_type": "stream",
     "text": [
      "[####################################################################################################] 100%  Left : 0:00:00  "
     ]
    }
   ],
   "source": [
    "#import_ticks_method(Assets,start_date,end_date,Thread,\n",
    "import_ticks_method(Assets,start_date,end_date,1,TimeFrame.TICK,\".\",True) "
   ]
  }
 ],
 "metadata": {
  "kernelspec": {
   "display_name": "Python 3 (ipykernel)",
   "language": "python",
   "name": "python3"
  },
  "language_info": {
   "codemirror_mode": {
    "name": "ipython",
    "version": 3
   },
   "file_extension": ".py",
   "mimetype": "text/x-python",
   "name": "python",
   "nbconvert_exporter": "python",
   "pygments_lexer": "ipython3",
   "version": "3.9.7"
  }
 },
 "nbformat": 4,
 "nbformat_minor": 5
}
